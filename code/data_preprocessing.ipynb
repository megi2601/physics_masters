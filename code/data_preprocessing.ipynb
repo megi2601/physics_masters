{
 "cells": [
  {
   "cell_type": "code",
   "execution_count": 1,
   "metadata": {},
   "outputs": [],
   "source": [
    "import os\n",
    "import zipfile\n",
    "import pandas as pd\n",
    "import numpy as np\n",
    "import matplotlib.pyplot as plt\n",
    "\n",
    "intreday_omega = r\"C:\\\\physics_masters\\\\data\\\\Bossa public market data\\\\pub\\\\intraday\\\\omega\"\n",
    "daily_omega = r\"C:\\\\physics_masters\\\\data\\\\Bossa public market data\\\\pub\\\\daily\\\\omega\"\n",
    "\n",
    "intraday_mstock = r\"C:\\\\physics_masters\\\\data\\\\Bossa public market data\\\\pub\\\\intraday\\\\mstock\"\n",
    "daily_mstock = r\"C:\\\\physics_masters\\\\data\\\\Bossa public market data\\\\pub\\\\daily\\\\mstock\""
   ]
  },
  {
   "cell_type": "markdown",
   "metadata": {},
   "source": [
    "# Unzip"
   ]
  },
  {
   "cell_type": "code",
   "execution_count": 33,
   "metadata": {},
   "outputs": [],
   "source": [
    "data_dir = r\"C:\\\\physics_masters\\\\data\\\\Bossa public market data\\\\pub\\\\intraday\\\\mstock\\\\fut\"\n",
    "output_dir = r\"C:\\\\physics_masters\\\\data\\\\Bossa public market data\\\\pub\\\\intraday_unzip\\\\mstock\"\n",
    "\n",
    "for filename in os.listdir(data_dir):\n",
    "    zip_path = os.path.join(data_dir, filename)\n",
    "    \n",
    "    with zipfile.ZipFile(zip_path, 'r') as zip_ref:\n",
    "        zip_ref.extractall(output_dir)"
   ]
  },
  {
   "cell_type": "code",
   "execution_count": null,
   "metadata": {},
   "outputs": [],
   "source": [
    "# additional processing for mstock - remove second column, add header\n",
    "\n",
    "data_dir = r\"C:\\\\physics_masters\\\\data\\\\Bossa public market data\\\\pub\\\\intraday_unzip\\\\mstock\"\n",
    "output_dir = r\"C:\\\\physics_masters\\\\data\\\\Bossa public market data\\\\pub\\\\intraday_unzip\\\\mstock\"\n",
    "\n",
    "os.makedirs(output_dir, exist_ok=True)\n",
    "\n",
    "header = [\"Name\", \"Date\", \"Time\", \"Open\", \"High\", \"Low\", \"Close\", \"Volume\", \"Oi\"]\n",
    "\n",
    "for filename in os.listdir(data_dir):\n",
    "    if filename.endswith(\".prn\"):\n",
    "        file_path = os.path.join(data_dir, filename)\n",
    "        df = pd.read_csv(file_path, delimiter=',', header=None)\n",
    "        df.drop(columns=[1], inplace=True)  # Remove the second column\n",
    "        df.to_csv(os.path.join(output_dir, filename), index=False, header=header)"
   ]
  },
  {
   "cell_type": "markdown",
   "metadata": {},
   "source": [
    "# Create daily data"
   ]
  },
  {
   "cell_type": "code",
   "execution_count": 2,
   "metadata": {},
   "outputs": [],
   "source": [
    "def create_daily_data(data_dir, output_dir):\n",
    "    dataframes = dict()\n",
    "\n",
    "    for filename in os.listdir(data_dir):\n",
    "        path = os.path.join(data_dir, filename)\n",
    "        df = pd.read_csv(path, delimiter=',', header=0)\n",
    "        df[\"Date\"] = pd.to_datetime(df[\"Date\"], format=\"%Y%m%d\")\n",
    "        # daily_diff = df.groupby(\"Date\").agg({\"Low\": \"first\", \"High\": \"last\"})\n",
    "        # daily_diff[\"DateDiff\"] = daily_diff[\"High\"] - daily_diff[\"Low\"]\n",
    "        #daily_diff = daily_diff[[\"DateDiff\"]]\n",
    "        \n",
    "        agg = {\n",
    "            \"Open\": \"first\",\n",
    "            \"High\": \"max\",\n",
    "            \"Low\": \"min\",\n",
    "            \"Close\": \"last\",\n",
    "            \"Volume\": \"sum\",\n",
    "            \"Oi\": \"sum\"\n",
    "        }\n",
    "\n",
    "        daily = df.groupby(\"Date\").agg(agg)\n",
    "        #daily[\"DiffPrevDate\"] = daily[\"Close\"].diff()\n",
    "        \n",
    "        # standarisation - so far without the 30 day std\n",
    "        #daily[\"DiffPrevDate\"] = (daily[\"DiffPrevDate\"] - daily[\"DiffPrevDate\"].mean()) / daily[\"DiffPrevDate\"].std()\n",
    "        \n",
    "        #daily['logClose'] = np.log(daily['Close'])\n",
    "\n",
    "        output_file = os.path.join(output_dir, filename)\n",
    "        daily.to_csv(output_file)\n",
    "        dataframes[filename.replace('.prn', '')]=len(daily)\n",
    "    \n",
    "    df = pd.DataFrame(dataframes.items(), columns=['Asset', 'TotalDays'])\n",
    "    df.to_csv(rf'C:\\\\physics_masters\\\\data\\\\{output_dir.split(\"\\\\\")[-1]}_summary.txt', sep='\\t', index=False)\n",
    "    "
   ]
  },
  {
   "cell_type": "code",
   "execution_count": 3,
   "metadata": {},
   "outputs": [],
   "source": [
    "create_daily_data(intreday_omega, daily_omega)\n",
    "create_daily_data(intraday_mstock, daily_mstock)"
   ]
  },
  {
   "cell_type": "code",
   "execution_count": null,
   "metadata": {},
   "outputs": [],
   "source": [
    "#info about the daily data: how many entries etc\n",
    "\n",
    "for data_dir in [daily_omega, daily_mstock]:\n",
    "    assets_info = []\n",
    "    for filename in os.listdir(data_dir):\n",
    "        path = os.path.join(data_dir, filename)\n",
    "        \n",
    "        #df = pd.read_csv(path, delimiter=',', header=0)\n",
    "        df = pd.read_csv(path, delimiter=',', header=0, parse_dates=['Date'])\n",
    "        \n",
    "        assets_info.append([filename.replace('.prn', '').ljust(10),  \n",
    "                            pd.to_datetime(df['Date'], format='%Y%m%d').min().strftime('%Y-%m-%d'), \n",
    "                            pd.to_datetime(df['Date'], format='%Y%m%d').max().strftime('%Y-%m-%d'),\n",
    "                            len(df),\n",
    "                            (pd.to_datetime(df['Date'], format='%Y%m%d').max() - pd.to_datetime(df['Date'], format='%Y%m%d').min()).days*(5/7)])\n",
    "\n",
    "    df = pd.DataFrame(assets_info, columns=['Asset',  'DateMin', 'DateMax', 'TotalDays','DateDiffDays'])\n",
    "    df.to_csv(rf'C:\\\\physics_masters\\\\data\\\\{data_dir.split(\"\\\\\")[-1]}_summary.txt', sep='\\t', index=False,)    \n",
    "\n"
   ]
  },
  {
   "cell_type": "markdown",
   "metadata": {},
   "source": [
    "# others\n"
   ]
  },
  {
   "cell_type": "code",
   "execution_count": 11,
   "metadata": {},
   "outputs": [],
   "source": [
    "def get_dataframes(data_dir):\n",
    "    dataframes = dict()\n",
    "    #dataframes = []\n",
    "    for filename in os.listdir(data_dir):\n",
    "        path = os.path.join(data_dir, filename)\n",
    "        df = pd.read_csv(path, delimiter=',', header=0, parse_dates=['Date'])\n",
    "        dataframes[filename.replace('.prn', '')] = df\n",
    "        #dataframes.append(df)\n",
    "    return dataframes"
   ]
  }
 ],
 "metadata": {
  "kernelspec": {
   "display_name": ".venv",
   "language": "python",
   "name": "python3"
  },
  "language_info": {
   "codemirror_mode": {
    "name": "ipython",
    "version": 3
   },
   "file_extension": ".py",
   "mimetype": "text/x-python",
   "name": "python",
   "nbconvert_exporter": "python",
   "pygments_lexer": "ipython3",
   "version": "3.13.2"
  }
 },
 "nbformat": 4,
 "nbformat_minor": 2
}
